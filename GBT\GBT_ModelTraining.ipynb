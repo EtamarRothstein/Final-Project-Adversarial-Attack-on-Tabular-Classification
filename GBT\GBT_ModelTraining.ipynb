{
  "nbformat": 4,
  "nbformat_minor": 0,
  "metadata": {
    "colab": {
      "provenance": [],
      "authorship_tag": "ABX9TyMDju+HBKIN3ZDGEMutElUV",
      "include_colab_link": true
    },
    "kernelspec": {
      "name": "python3",
      "display_name": "Python 3"
    },
    "language_info": {
      "name": "python"
    }
  },
  "cells": [
    {
      "cell_type": "markdown",
      "metadata": {
        "id": "view-in-github",
        "colab_type": "text"
      },
      "source": [
        "<a href=\"https://colab.research.google.com/github/yuvalira/Final-Project-Adversarial-Attack-on-Tabular-Classification/blob/main/GBT%5CGBT_ModelTraining.ipynb\" target=\"_parent\"><img src=\"https://colab.research.google.com/assets/colab-badge.svg\" alt=\"Open In Colab\"/></a>"
      ]
    },
    {
      "cell_type": "code",
      "source": [
        "import os\n",
        "import kagglehub\n",
        "import pandas as pd\n",
        "import numpy as np\n",
        "import matplotlib.pyplot as plt\n",
        "import sys\n",
        "from sklearn.preprocessing import LabelEncoder\n",
        "import seaborn as sn\n",
        "# Classical model imports\n",
        "import math\n",
        "import urllib\n",
        "from sklearn.model_selection import train_test_split\n",
        "import time\n",
        "from sklearn.metrics import precision_score, recall_score, f1_score, accuracy_score, roc_auc_score, roc_curve\n",
        "import json\n",
        "from scipy.stats import pointbiserialr\n",
        "import random"
      ],
      "metadata": {
        "id": "MxkhC111qnNJ"
      },
      "execution_count": 1,
      "outputs": []
    },
    {
      "cell_type": "markdown",
      "metadata": {
        "id": "_U6mUNht8_vr"
      },
      "source": [
        "#**Classical Model**\n",
        "In this section, we implement a classical tree-based machine learning model to serve as a performance baseline for comparison against Large Language Models (LLMs) on a tabular classification task."
      ]
    },
    {
      "cell_type": "markdown",
      "metadata": {
        "id": "T-x1N4t89JEy"
      },
      "source": [
        "TensorFlow Decision Forests (TF-DF) is a library designed for building tree-based models, including Random Forests, Gradient Boosted Trees (GBT), and Classification and Regression Trees (CART).\n",
        "\n",
        "There is an existing implementation of GBT on a version of our dataset, available on Hugging Face [1] and GitHub [2]. To better understand and adapt this approach to our dataset, we reimplement the method from scratch based on the official Keras example [3].\n",
        "\n",
        "References:\n",
        "\n",
        "[Hugging Face: TF Decision Trees](https://huggingface.co/keras-io/TF_Decision_Trees)  \n",
        "\n",
        "[GitHub: TF-GB-Forest Project](https://github.com/tdubon/TF-GB-Forest/blob/main/README.md)  \n",
        "\n",
        "[Keras: Classification with TF-DF](https://keras.io/examples/structured_data/classification_with_tfdf/)\n",
        "\n"
      ]
    },
    {
      "cell_type": "markdown",
      "metadata": {
        "id": "LIZ03DpO5Wf4"
      },
      "source": [
        "### 1. Setup\n",
        "Installing TensorFlow Decision Forests"
      ]
    },
    {
      "cell_type": "code",
      "execution_count": null,
      "metadata": {
        "colab": {
          "base_uri": "https://localhost:8080/"
        },
        "id": "-0M6_3jAOygU",
        "outputId": "2019d593-6100-473d-c4d0-91bb62df4bbe"
      },
      "outputs": [
        {
          "output_type": "stream",
          "name": "stdout",
          "text": [
            "Requirement already satisfied: tensorflow_decision_forests in /usr/local/lib/python3.11/dist-packages (1.11.0)\n",
            "Requirement already satisfied: numpy in /usr/local/lib/python3.11/dist-packages (from tensorflow_decision_forests) (2.0.2)\n",
            "Requirement already satisfied: pandas in /usr/local/lib/python3.11/dist-packages (from tensorflow_decision_forests) (2.2.2)\n",
            "Requirement already satisfied: tensorflow==2.18.0 in /usr/local/lib/python3.11/dist-packages (from tensorflow_decision_forests) (2.18.0)\n",
            "Requirement already satisfied: six in /usr/local/lib/python3.11/dist-packages (from tensorflow_decision_forests) (1.17.0)\n",
            "Requirement already satisfied: absl-py in /usr/local/lib/python3.11/dist-packages (from tensorflow_decision_forests) (1.4.0)\n",
            "Requirement already satisfied: wheel in /usr/local/lib/python3.11/dist-packages (from tensorflow_decision_forests) (0.45.1)\n",
            "Requirement already satisfied: wurlitzer in /usr/local/lib/python3.11/dist-packages (from tensorflow_decision_forests) (3.1.1)\n",
            "Requirement already satisfied: tf-keras~=2.17 in /usr/local/lib/python3.11/dist-packages (from tensorflow_decision_forests) (2.18.0)\n",
            "Requirement already satisfied: ydf in /usr/local/lib/python3.11/dist-packages (from tensorflow_decision_forests) (0.11.0)\n",
            "Requirement already satisfied: astunparse>=1.6.0 in /usr/local/lib/python3.11/dist-packages (from tensorflow==2.18.0->tensorflow_decision_forests) (1.6.3)\n",
            "Requirement already satisfied: flatbuffers>=24.3.25 in /usr/local/lib/python3.11/dist-packages (from tensorflow==2.18.0->tensorflow_decision_forests) (25.2.10)\n",
            "Requirement already satisfied: gast!=0.5.0,!=0.5.1,!=0.5.2,>=0.2.1 in /usr/local/lib/python3.11/dist-packages (from tensorflow==2.18.0->tensorflow_decision_forests) (0.6.0)\n",
            "Requirement already satisfied: google-pasta>=0.1.1 in /usr/local/lib/python3.11/dist-packages (from tensorflow==2.18.0->tensorflow_decision_forests) (0.2.0)\n",
            "Requirement already satisfied: libclang>=13.0.0 in /usr/local/lib/python3.11/dist-packages (from tensorflow==2.18.0->tensorflow_decision_forests) (18.1.1)\n",
            "Requirement already satisfied: opt-einsum>=2.3.2 in /usr/local/lib/python3.11/dist-packages (from tensorflow==2.18.0->tensorflow_decision_forests) (3.4.0)\n",
            "Requirement already satisfied: packaging in /usr/local/lib/python3.11/dist-packages (from tensorflow==2.18.0->tensorflow_decision_forests) (24.2)\n",
            "Requirement already satisfied: protobuf!=4.21.0,!=4.21.1,!=4.21.2,!=4.21.3,!=4.21.4,!=4.21.5,<6.0.0dev,>=3.20.3 in /usr/local/lib/python3.11/dist-packages (from tensorflow==2.18.0->tensorflow_decision_forests) (5.29.4)\n",
            "Requirement already satisfied: requests<3,>=2.21.0 in /usr/local/lib/python3.11/dist-packages (from tensorflow==2.18.0->tensorflow_decision_forests) (2.32.3)\n",
            "Requirement already satisfied: setuptools in /usr/local/lib/python3.11/dist-packages (from tensorflow==2.18.0->tensorflow_decision_forests) (75.2.0)\n",
            "Requirement already satisfied: termcolor>=1.1.0 in /usr/local/lib/python3.11/dist-packages (from tensorflow==2.18.0->tensorflow_decision_forests) (3.1.0)\n",
            "Requirement already satisfied: typing-extensions>=3.6.6 in /usr/local/lib/python3.11/dist-packages (from tensorflow==2.18.0->tensorflow_decision_forests) (4.13.2)\n",
            "Requirement already satisfied: wrapt>=1.11.0 in /usr/local/lib/python3.11/dist-packages (from tensorflow==2.18.0->tensorflow_decision_forests) (1.17.2)\n",
            "Requirement already satisfied: grpcio<2.0,>=1.24.3 in /usr/local/lib/python3.11/dist-packages (from tensorflow==2.18.0->tensorflow_decision_forests) (1.71.0)\n",
            "Requirement already satisfied: tensorboard<2.19,>=2.18 in /usr/local/lib/python3.11/dist-packages (from tensorflow==2.18.0->tensorflow_decision_forests) (2.18.0)\n",
            "Requirement already satisfied: keras>=3.5.0 in /usr/local/lib/python3.11/dist-packages (from tensorflow==2.18.0->tensorflow_decision_forests) (3.8.0)\n",
            "Requirement already satisfied: h5py>=3.11.0 in /usr/local/lib/python3.11/dist-packages (from tensorflow==2.18.0->tensorflow_decision_forests) (3.13.0)\n",
            "Requirement already satisfied: ml-dtypes<0.5.0,>=0.4.0 in /usr/local/lib/python3.11/dist-packages (from tensorflow==2.18.0->tensorflow_decision_forests) (0.4.1)\n",
            "Requirement already satisfied: tensorflow-io-gcs-filesystem>=0.23.1 in /usr/local/lib/python3.11/dist-packages (from tensorflow==2.18.0->tensorflow_decision_forests) (0.37.1)\n",
            "Requirement already satisfied: python-dateutil>=2.8.2 in /usr/local/lib/python3.11/dist-packages (from pandas->tensorflow_decision_forests) (2.9.0.post0)\n",
            "Requirement already satisfied: pytz>=2020.1 in /usr/local/lib/python3.11/dist-packages (from pandas->tensorflow_decision_forests) (2025.2)\n",
            "Requirement already satisfied: tzdata>=2022.7 in /usr/local/lib/python3.11/dist-packages (from pandas->tensorflow_decision_forests) (2025.2)\n",
            "Requirement already satisfied: rich in /usr/local/lib/python3.11/dist-packages (from keras>=3.5.0->tensorflow==2.18.0->tensorflow_decision_forests) (13.9.4)\n",
            "Requirement already satisfied: namex in /usr/local/lib/python3.11/dist-packages (from keras>=3.5.0->tensorflow==2.18.0->tensorflow_decision_forests) (0.0.9)\n",
            "Requirement already satisfied: optree in /usr/local/lib/python3.11/dist-packages (from keras>=3.5.0->tensorflow==2.18.0->tensorflow_decision_forests) (0.15.0)\n",
            "Requirement already satisfied: charset-normalizer<4,>=2 in /usr/local/lib/python3.11/dist-packages (from requests<3,>=2.21.0->tensorflow==2.18.0->tensorflow_decision_forests) (3.4.1)\n",
            "Requirement already satisfied: idna<4,>=2.5 in /usr/local/lib/python3.11/dist-packages (from requests<3,>=2.21.0->tensorflow==2.18.0->tensorflow_decision_forests) (3.10)\n",
            "Requirement already satisfied: urllib3<3,>=1.21.1 in /usr/local/lib/python3.11/dist-packages (from requests<3,>=2.21.0->tensorflow==2.18.0->tensorflow_decision_forests) (2.4.0)\n",
            "Requirement already satisfied: certifi>=2017.4.17 in /usr/local/lib/python3.11/dist-packages (from requests<3,>=2.21.0->tensorflow==2.18.0->tensorflow_decision_forests) (2025.4.26)\n",
            "Requirement already satisfied: markdown>=2.6.8 in /usr/local/lib/python3.11/dist-packages (from tensorboard<2.19,>=2.18->tensorflow==2.18.0->tensorflow_decision_forests) (3.8)\n",
            "Requirement already satisfied: tensorboard-data-server<0.8.0,>=0.7.0 in /usr/local/lib/python3.11/dist-packages (from tensorboard<2.19,>=2.18->tensorflow==2.18.0->tensorflow_decision_forests) (0.7.2)\n",
            "Requirement already satisfied: werkzeug>=1.0.1 in /usr/local/lib/python3.11/dist-packages (from tensorboard<2.19,>=2.18->tensorflow==2.18.0->tensorflow_decision_forests) (3.1.3)\n",
            "Requirement already satisfied: MarkupSafe>=2.1.1 in /usr/local/lib/python3.11/dist-packages (from werkzeug>=1.0.1->tensorboard<2.19,>=2.18->tensorflow==2.18.0->tensorflow_decision_forests) (3.0.2)\n",
            "Requirement already satisfied: markdown-it-py>=2.2.0 in /usr/local/lib/python3.11/dist-packages (from rich->keras>=3.5.0->tensorflow==2.18.0->tensorflow_decision_forests) (3.0.0)\n",
            "Requirement already satisfied: pygments<3.0.0,>=2.13.0 in /usr/local/lib/python3.11/dist-packages (from rich->keras>=3.5.0->tensorflow==2.18.0->tensorflow_decision_forests) (2.19.1)\n",
            "Requirement already satisfied: mdurl~=0.1 in /usr/local/lib/python3.11/dist-packages (from markdown-it-py>=2.2.0->rich->keras>=3.5.0->tensorflow==2.18.0->tensorflow_decision_forests) (0.1.2)\n"
          ]
        }
      ],
      "source": [
        "!pip install tensorflow_decision_forests"
      ]
    },
    {
      "cell_type": "code",
      "source": [
        "import tensorflow as tf\n",
        "from tensorflow import keras\n",
        "from tensorflow.keras import layers\n",
        "import tensorflow_decision_forests as tfdf"
      ],
      "metadata": {
        "colab": {
          "base_uri": "https://localhost:8080/"
        },
        "id": "qHoNbmM0tqOG",
        "outputId": "1c94ccd5-d5bc-40ef-c230-0dac0602ea27"
      },
      "execution_count": null,
      "outputs": [
        {
          "output_type": "display_data",
          "data": {
            "text/plain": [
              "<IPython.core.display.HTML object>"
            ],
            "text/html": [
              "\n",
              "<p style=\"margin:0px;\">🌲 Try <a href=\"https://ydf.readthedocs.io/en/latest/\" target=\"_blank\">YDF</a>, the successor of\n",
              "    <a href=\"https://www.tensorflow.org/decision_forests\" target=\"_blank\">TensorFlow\n",
              "        Decision Forests</a> using the same algorithms but with more features and faster\n",
              "    training!\n",
              "</p>\n",
              "<div style=\"display: flex; flex-wrap: wrap; margin:5px;max-width: 880px;\">\n",
              "    <div style=\"flex: 1; border-radius: 10px; background-color: F0F0F0; padding: 5px;\">\n",
              "        <p\n",
              "            style=\"font-weight: bold; margin:0px;text-align: center;border-bottom: 1px solid #C0C0C0;margin-bottom: 4px;\">\n",
              "            Old code</p>\n",
              "        <pre style=\"overflow-wrap: anywhere; overflow: auto; margin:0px;font-size: 9pt;\">\n",
              "import tensorflow_decision_forests as tfdf\n",
              "\n",
              "tf_ds = tfdf.keras.pd_dataframe_to_tf_dataset(ds, label=\"l\")\n",
              "model = tfdf.keras.RandomForestModel(label=\"l\")\n",
              "model.fit(tf_ds)\n",
              "</pre>\n",
              "    </div>\n",
              "    <div style=\"width: 5px;\"></div>\n",
              "    <div style=\"flex: 1; border-radius: 10px; background-color: F0F0F0; padding: 5px;\">\n",
              "        <p\n",
              "            style=\"font-weight: bold; margin:0px;text-align: center;border-bottom: 1px solid #C0C0C0;margin-bottom: 4px;\">\n",
              "            New code</p>\n",
              "        <pre style=\"overflow-wrap: anywhere; overflow: auto; margin:0px;font-size: 9pt;\">\n",
              "import ydf\n",
              "\n",
              "model = ydf.RandomForestLearner(label=\"l\").train(ds)\n",
              "</pre>\n",
              "    </div>\n",
              "</div>\n",
              "<p style=\"margin:0px;font-size: 9pt;\">(Learn more in the <a\n",
              "        href=\"https://ydf.readthedocs.io/en/latest/tutorial/migrating_to_ydf/\" target=\"_blank\">migration\n",
              "        guide</a>)</p>\n"
            ]
          },
          "metadata": {}
        }
      ]
    },
    {
      "cell_type": "markdown",
      "metadata": {
        "id": "QRXPEpwndR6M"
      },
      "source": [
        "### 2. Data Pre-Processing"
      ]
    },
    {
      "cell_type": "markdown",
      "metadata": {
        "id": "k9X8aaF8vf2i"
      },
      "source": [
        "First, we'll track which columns have numerical values and which are categorical. We'll also pay special attention to the target column and weight column."
      ]
    },
    {
      "cell_type": "code",
      "execution_count": null,
      "metadata": {
        "colab": {
          "base_uri": "https://localhost:8080/"
        },
        "id": "ztICFE28Lrce",
        "outputId": "7c67284f-b687-4b03-9773-a7a4ab21f787"
      },
      "outputs": [
        {
          "output_type": "stream",
          "name": "stdout",
          "text": [
            "Numerical Features: ['age', 'fnlwgt', 'educational-num', 'capital-gain', 'capital-loss', 'hours-per-week']\n",
            "Categorical Features: ['workclass', 'education', 'marital-status', 'occupation', 'relationship', 'race', 'gender', 'native-country', 'income']\n"
          ]
        }
      ],
      "source": [
        "# Identify numerical columns (int, float)\n",
        "numerical_columns = df.select_dtypes(include=['int64', 'float64']).columns.tolist()\n",
        "\n",
        "# Identify categorical columns (object, category)\n",
        "categorical_columns = df.select_dtypes(include=['object', 'category']).columns.tolist()\n",
        "\n",
        "# Print the feature names (column names)\n",
        "print(\"Numerical Features:\", numerical_columns)\n",
        "print(\"Categorical Features:\", categorical_columns)"
      ]
    },
    {
      "cell_type": "code",
      "execution_count": null,
      "metadata": {
        "id": "fjJVrRkKLqMW"
      },
      "outputs": [],
      "source": [
        "# Define the columns based on the categories you mentioned\n",
        "TARGET_COLUMN_NAME = \"income\"  # The column we're predicting\n",
        "TARGET_LABELS = [\"<=50K\", \">50K\"]  # Treat income as a categorical target variable with these two possible labels.\n",
        "WEIGHT_COLUMN_NAME = \"fnlwgt\"  # The weight column (if applicable)\n",
        "\n",
        "# Numeric features based on the output\n",
        "NUMERIC_FEATURE_NAMES = [\n",
        "    'age',\n",
        "    'fnlwgt',\n",
        "    'educational-num',\n",
        "    'capital-gain',\n",
        "    'capital-loss',\n",
        "    'hours-per-week'\n",
        "]\n",
        "\n",
        "# Categorical features based on the output\n",
        "CATEGORICAL_FEATURE_NAMES = [\n",
        "    'workclass',\n",
        "    'education',\n",
        "    'marital-status',\n",
        "    'occupation',\n",
        "    'relationship',\n",
        "    'race',\n",
        "    'gender',\n",
        "    'native-country'\n",
        "]"
      ]
    },
    {
      "cell_type": "markdown",
      "metadata": {
        "id": "6O7dD_kGhxfn"
      },
      "source": [
        "Now, we split the data into Train-Test-Val sets"
      ]
    },
    {
      "cell_type": "code",
      "execution_count": null,
      "metadata": {
        "id": "1305CejrxijP"
      },
      "outputs": [],
      "source": [
        "# Split the data into train and test sets (80% train, 20% test)\n",
        "temp_train_data, test_data = train_test_split(df, test_size=0.2, random_state=42, shuffle=True)\n",
        "train_data, val_data = train_test_split(temp_train_data, test_size=0.2, random_state=42, shuffle=True)"
      ]
    },
    {
      "cell_type": "markdown",
      "metadata": {
        "id": "1T65T-HLwfGH"
      },
      "source": [
        "We'll continue the pre-processing by encoding the target columns so that :\n",
        "*   '<=50'   becomes   0\n",
        "*   '>50'    becomes   1\n",
        "\n",
        "Also, we'll converts categorical features to string in order to ensures TF-DF treats them as categorical\n"
      ]
    },
    {
      "cell_type": "code",
      "execution_count": null,
      "metadata": {
        "id": "77yk5jFUws1A"
      },
      "outputs": [],
      "source": [
        "def prepare_dataframe(df):\n",
        "    # Convert the target labels from string to integer.\n",
        "    df[TARGET_COLUMN_NAME] = df[TARGET_COLUMN_NAME].map(\n",
        "        TARGET_LABELS.index\n",
        "    )\n",
        "    # Cast the categorical features to string.\n",
        "    for feature_name in CATEGORICAL_FEATURE_NAMES:\n",
        "        df[feature_name] = df[feature_name].astype(str)\n",
        "\n",
        "\n",
        "prepare_dataframe(train_data)\n",
        "prepare_dataframe(test_data)"
      ]
    },
    {
      "cell_type": "markdown",
      "metadata": {
        "id": "9LGLcHifwu3Q"
      },
      "source": [
        "Now we will show the shapes of the training and test dataframes"
      ]
    },
    {
      "cell_type": "code",
      "execution_count": null,
      "metadata": {
        "colab": {
          "base_uri": "https://localhost:8080/"
        },
        "id": "Y0-FYIJGx1xW",
        "outputId": "de37cbbb-60b4-4fc8-a8a2-97c0897030b8"
      },
      "outputs": [
        {
          "output_type": "stream",
          "name": "stdout",
          "text": [
            "Train data shape: (31258, 15)\n",
            "Test data shape: (9769, 15)\n",
            "Validation data shape: (7815, 15)\n"
          ]
        }
      ],
      "source": [
        "print(f\"Train data shape: {train_data.shape}\")\n",
        "print(f\"Test data shape: {test_data.shape}\")\n",
        "print(f\"Validation data shape: {val_data.shape}\")"
      ]
    },
    {
      "cell_type": "markdown",
      "metadata": {
        "id": "MLdPvOpRuLy1"
      },
      "source": [
        "### 3. Model Training & Evaluation\n",
        "We'll train a **Gradient Boosted Trees (GBT) model** using TensorFlow Decision Forests.  \n",
        "This model is chosen because:\n",
        "- It improves performance over standard decision trees.\n",
        "- It reduces overfitting by sequentially training trees.\n",
        "- It automatically handles categorical features."
      ]
    },
    {
      "cell_type": "code",
      "execution_count": null,
      "metadata": {
        "colab": {
          "base_uri": "https://localhost:8080/"
        },
        "id": "HZ8b6R1R0NqT",
        "outputId": "3308c4ea-009e-4f09-e3b7-e93cfe6c7d86"
      },
      "outputs": [
        {
          "output_type": "stream",
          "name": "stdout",
          "text": [
            "Use /tmp/tmpo2x___q6 as temporary training directory\n"
          ]
        }
      ],
      "source": [
        "# Gradient Boosted Trees (GBT) model for classification with configured hyperparameters\n",
        "model_gbt = tfdf.keras.GradientBoostedTreesModel(\n",
        "    task=tfdf.keras.Task.CLASSIFICATION,\n",
        "    num_trees=250,              # Number of trees to train\n",
        "    max_depth=5,                # Maximum tree depth\n",
        "    min_examples=6,             # Minimum number of examples per leaf\n",
        "    subsample=0.65,             # Subsampling ratio per tree\n",
        "    sampling_method=\"RANDOM\",   # Sampling method\n",
        "    random_seed=42,             # Optional: for reproducibility\n",
        "    l2_regularization=0.005\n",
        ")\n"
      ]
    },
    {
      "cell_type": "markdown",
      "metadata": {
        "id": "UBj3lk7vSTQb"
      },
      "source": [
        "The run_experiment() method is responsible loading the train and test datasets, training a given model, and evaluating the trained model."
      ]
    },
    {
      "cell_type": "code",
      "execution_count": null,
      "metadata": {
        "colab": {
          "base_uri": "https://localhost:8080/"
        },
        "id": "ovm3QNCVTpGA",
        "outputId": "2001f632-47f8-4916-958f-064a7d432237"
      },
      "outputs": [
        {
          "output_type": "stream",
          "name": "stdout",
          "text": [
            "Unique Target Labels: [0 1]\n",
            "Reading training dataset...\n",
            "Training dataset read in 0:00:10.308262. Found 31258 examples.\n",
            "Reading validation dataset...\n",
            "Num validation examples: tf.Tensor(7815, shape=(), dtype=int32)\n",
            "Validation dataset read in 0:00:01.480251. Found 7815 examples.\n",
            "Training model...\n",
            "Model trained in 0:00:06.446500\n",
            "Compiling model...\n",
            "Model compiled.\n",
            "10/10 [==============================] - 0s 21ms/step\n",
            "Correctly Predicted: 8598/9769\n",
            "Computed Accuracy: 88.01%\n",
            "Precision: 0.7891\n",
            "Recall: 0.6668\n",
            "F1 Score: 0.7228\n",
            "Accuracy: 0.8801\n",
            "Inference Time: 0.4622 seconds\n"
          ]
        }
      ],
      "source": [
        "def run_experiment(model, train_data, test_data):\n",
        "    # Check target labels\n",
        "    print(\"Unique Target Labels:\", train_data[TARGET_COLUMN_NAME].unique())\n",
        "\n",
        "    # Convert Pandas DataFrame to TensorFlow dataset\n",
        "    train_dataset = tfdf.keras.pd_dataframe_to_tf_dataset(\n",
        "        train_data, label=TARGET_COLUMN_NAME\n",
        "    )\n",
        "    test_dataset = tfdf.keras.pd_dataframe_to_tf_dataset(\n",
        "        test_data, label=TARGET_COLUMN_NAME\n",
        "    )\n",
        "    val_dataset = tfdf.keras.pd_dataframe_to_tf_dataset(\n",
        "        val_data, label=TARGET_COLUMN_NAME\n",
        "    )\n",
        "\n",
        "    # Compile model with explicit weighted metrics\n",
        "    model.compile(metrics=[\"accuracy\"])\n",
        "\n",
        "    # Train the model with early stopping\n",
        "    model.fit(train_dataset, validation_data=val_dataset)\n",
        "\n",
        "    # Evaluate the model\n",
        "    y_true = test_data[TARGET_COLUMN_NAME].values  # Actual labels\n",
        "    start_time = time.time()\n",
        "    y_pred = model_gbt.predict(test_dataset)  # Raw probabilities\n",
        "    end_time = time.time()\n",
        "    y_pred_class = (y_pred > 0.5).astype(int)  # Convert to 0 or 1\n",
        "\n",
        "    inference_time = end_time - start_time\n",
        "\n",
        "    # Compare actual vs. predicted labels\n",
        "    correct_predictions = np.sum(y_true == y_pred_class.flatten())\n",
        "    total_predictions = len(y_true)\n",
        "\n",
        "    print(f\"Correctly Predicted: {correct_predictions}/{total_predictions}\")\n",
        "    print(f\"Computed Accuracy: {correct_predictions / total_predictions:.2%}\")\n",
        "\n",
        "    # Calculate metrics\n",
        "    precision = precision_score(y_true, y_pred_class)\n",
        "    recall = recall_score(y_true, y_pred_class)\n",
        "    f1 = f1_score(y_true, y_pred_class)\n",
        "    accuracy = accuracy_score(y_true, y_pred_class)\n",
        "\n",
        "    print(f\"Precision: {precision:.4f}\")\n",
        "    print(f\"Recall: {recall:.4f}\")\n",
        "    print(f\"F1 Score: {f1:.4f}\")\n",
        "    print(f\"Accuracy: {accuracy:.4f}\")\n",
        "    print(f\"Inference Time: {inference_time:.4f} seconds\")\n",
        "\n",
        "\n",
        "run_experiment(model_gbt, train_data, test_data)"
      ]
    },
    {
      "cell_type": "markdown",
      "metadata": {
        "id": "cI8mKXRwv3we"
      },
      "source": [
        "Now, we will analyzes which features are most important for the model. This function measures how frequently and how effectively each feature is used across all decision trees, helping to understand and interpret the model's decision-making process.\n",
        "\n",
        "\n",
        "*   INV_MEAN_MIN_DEPTH: Measures how early a feature is used in the decision trees (closer to the root implies higher importance).\n",
        "\n",
        "*   SUM_SCORE: Reflects the total contribution of each feature to improving predictions.\n",
        "\n",
        "*  NUM_AS_ROOT: Counts how often a feature appears as the root of a tree.\n",
        "\n",
        "*   NUM_NODES: Counts how many times a feature is used in any node (root or internal).\n",
        "\n",
        "\n",
        "\n"
      ]
    },
    {
      "cell_type": "code",
      "execution_count": null,
      "metadata": {
        "colab": {
          "base_uri": "https://localhost:8080/"
        },
        "id": "AMzWpKOgvjCc",
        "outputId": "ca305671-5864-41ff-eec5-94bf167c8ec1"
      },
      "outputs": [
        {
          "output_type": "execute_result",
          "data": {
            "text/plain": [
              "{'INV_MEAN_MIN_DEPTH': [(\"native-country\" (4; #10), 0.2582351879338899),\n",
              "  (\"occupation\" (4; #11), 0.2571737926873857),\n",
              "  (\"age\" (1; #1), 0.24959139503952352),\n",
              "  (\"relationship\" (4; #13), 0.24690018178365053),\n",
              "  (\"education\" (4; #4), 0.24550447103285186),\n",
              "  (\"capital-gain\" (1; #2), 0.24308030832466598),\n",
              "  (\"hours-per-week\" (1; #8), 0.23807758887575933),\n",
              "  (\"marital-status\" (4; #9), 0.23281335862584704),\n",
              "  (\"capital-loss\" (1; #3), 0.2267559570160413),\n",
              "  (\"fnlwgt\" (1; #6), 0.2217290773217551),\n",
              "  (\"workclass\" (4; #14), 0.2203509505913777),\n",
              "  (\"educational-num\" (1; #5), 0.21633040308871765),\n",
              "  (\"race\" (4; #12), 0.20600796834545468),\n",
              "  (\"gender\" (4; #7), 0.205924445026235)],\n",
              " 'SUM_SCORE': [(\"relationship\" (4; #13), 3076.621199436282),\n",
              "  (\"capital-gain\" (1; #2), 1984.1949931912022),\n",
              "  (\"occupation\" (4; #11), 1190.4365277741563),\n",
              "  (\"education\" (4; #4), 1021.6334399485968),\n",
              "  (\"marital-status\" (4; #9), 985.5364037900363),\n",
              "  (\"capital-loss\" (1; #3), 616.3968090704311),\n",
              "  (\"educational-num\" (1; #5), 589.1443635430933),\n",
              "  (\"age\" (1; #1), 584.7762139479928),\n",
              "  (\"hours-per-week\" (1; #8), 356.3787210985156),\n",
              "  (\"native-country\" (4; #10), 261.0820257467203),\n",
              "  (\"workclass\" (4; #14), 127.90617118776572),\n",
              "  (\"fnlwgt\" (1; #6), 89.67000468418519),\n",
              "  (\"gender\" (4; #7), 14.785938357163104),\n",
              "  (\"race\" (4; #12), 13.087836002690892)],\n",
              " 'NUM_AS_ROOT': [(\"relationship\" (4; #13), 17.0),\n",
              "  (\"age\" (1; #1), 13.0),\n",
              "  (\"hours-per-week\" (1; #8), 12.0),\n",
              "  (\"marital-status\" (4; #9), 12.0),\n",
              "  (\"capital-gain\" (1; #2), 11.0),\n",
              "  (\"native-country\" (4; #10), 11.0),\n",
              "  (\"education\" (4; #4), 10.0),\n",
              "  (\"capital-loss\" (1; #3), 8.0),\n",
              "  (\"fnlwgt\" (1; #6), 7.0),\n",
              "  (\"occupation\" (4; #11), 7.0),\n",
              "  (\"educational-num\" (1; #5), 6.0),\n",
              "  (\"workclass\" (4; #14), 4.0),\n",
              "  (\"gender\" (4; #7), 1.0),\n",
              "  (\"race\" (4; #12), 1.0)],\n",
              " 'NUM_NODES': [(\"occupation\" (4; #11), 258.0),\n",
              "  (\"native-country\" (4; #10), 200.0),\n",
              "  (\"age\" (1; #1), 183.0),\n",
              "  (\"capital-gain\" (1; #2), 182.0),\n",
              "  (\"education\" (4; #4), 175.0),\n",
              "  (\"capital-loss\" (1; #3), 143.0),\n",
              "  (\"hours-per-week\" (1; #8), 125.0),\n",
              "  (\"relationship\" (4; #13), 113.0),\n",
              "  (\"fnlwgt\" (1; #6), 100.0),\n",
              "  (\"marital-status\" (4; #9), 90.0),\n",
              "  (\"workclass\" (4; #14), 85.0),\n",
              "  (\"educational-num\" (1; #5), 33.0),\n",
              "  (\"race\" (4; #12), 15.0),\n",
              "  (\"gender\" (4; #7), 9.0)]}"
            ]
          },
          "metadata": {},
          "execution_count": 14
        }
      ],
      "source": [
        "inspector = model_gbt.make_inspector()\n",
        "inspector.variable_importances()"
      ]
    },
    {
      "cell_type": "code",
      "execution_count": null,
      "metadata": {
        "colab": {
          "base_uri": "https://localhost:8080/"
        },
        "id": "a4aDtdYX_QHg",
        "outputId": "d4ae283b-5132-4047-a15d-a0cc6042dbae"
      },
      "outputs": [
        {
          "output_type": "stream",
          "name": "stdout",
          "text": [
            "Model: \"gradient_boosted_trees_model\"\n",
            "_________________________________________________________________\n",
            " Layer (type)                Output Shape              Param #   \n",
            "=================================================================\n",
            "=================================================================\n",
            "Total params: 1 (1.00 Byte)\n",
            "Trainable params: 0 (0.00 Byte)\n",
            "Non-trainable params: 1 (1.00 Byte)\n",
            "_________________________________________________________________\n",
            "Type: \"GRADIENT_BOOSTED_TREES\"\n",
            "Task: CLASSIFICATION\n",
            "Label: \"__LABEL\"\n",
            "\n",
            "Input Features (14):\n",
            "\tage\n",
            "\tcapital-gain\n",
            "\tcapital-loss\n",
            "\teducation\n",
            "\teducational-num\n",
            "\tfnlwgt\n",
            "\tgender\n",
            "\thours-per-week\n",
            "\tmarital-status\n",
            "\tnative-country\n",
            "\toccupation\n",
            "\trace\n",
            "\trelationship\n",
            "\tworkclass\n",
            "\n",
            "No weights\n",
            "\n",
            "Variable Importance: INV_MEAN_MIN_DEPTH:\n",
            "    1.  \"native-country\"  0.258235 ################\n",
            "    2.      \"occupation\"  0.257174 ###############\n",
            "    3.             \"age\"  0.249591 #############\n",
            "    4.    \"relationship\"  0.246900 ############\n",
            "    5.       \"education\"  0.245504 ############\n",
            "    6.    \"capital-gain\"  0.243080 ###########\n",
            "    7.  \"hours-per-week\"  0.238078 #########\n",
            "    8.  \"marital-status\"  0.232813 ########\n",
            "    9.    \"capital-loss\"  0.226756 ######\n",
            "   10.          \"fnlwgt\"  0.221729 ####\n",
            "   11.       \"workclass\"  0.220351 ####\n",
            "   12. \"educational-num\"  0.216330 ###\n",
            "   13.            \"race\"  0.206008 \n",
            "   14.          \"gender\"  0.205924 \n",
            "\n",
            "Variable Importance: NUM_AS_ROOT:\n",
            "    1.    \"relationship\" 17.000000 ################\n",
            "    2.             \"age\" 13.000000 ############\n",
            "    3.  \"hours-per-week\" 12.000000 ###########\n",
            "    4.  \"marital-status\" 12.000000 ###########\n",
            "    5.    \"capital-gain\" 11.000000 ##########\n",
            "    6.  \"native-country\" 11.000000 ##########\n",
            "    7.       \"education\" 10.000000 #########\n",
            "    8.    \"capital-loss\"  8.000000 #######\n",
            "    9.          \"fnlwgt\"  7.000000 ######\n",
            "   10.      \"occupation\"  7.000000 ######\n",
            "   11. \"educational-num\"  6.000000 #####\n",
            "   12.       \"workclass\"  4.000000 ###\n",
            "   13.          \"gender\"  1.000000 \n",
            "   14.            \"race\"  1.000000 \n",
            "\n",
            "Variable Importance: NUM_NODES:\n",
            "    1.      \"occupation\" 258.000000 ################\n",
            "    2.  \"native-country\" 200.000000 ############\n",
            "    3.             \"age\" 183.000000 ###########\n",
            "    4.    \"capital-gain\" 182.000000 ###########\n",
            "    5.       \"education\" 175.000000 ##########\n",
            "    6.    \"capital-loss\" 143.000000 ########\n",
            "    7.  \"hours-per-week\" 125.000000 #######\n",
            "    8.    \"relationship\" 113.000000 ######\n",
            "    9.          \"fnlwgt\" 100.000000 #####\n",
            "   10.  \"marital-status\" 90.000000 #####\n",
            "   11.       \"workclass\" 85.000000 ####\n",
            "   12. \"educational-num\" 33.000000 #\n",
            "   13.            \"race\" 15.000000 \n",
            "   14.          \"gender\"  9.000000 \n",
            "\n",
            "Variable Importance: SUM_SCORE:\n",
            "    1.    \"relationship\" 3076.621199 ################\n",
            "    2.    \"capital-gain\" 1984.194993 ##########\n",
            "    3.      \"occupation\" 1190.436528 ######\n",
            "    4.       \"education\" 1021.633440 #####\n",
            "    5.  \"marital-status\" 985.536404 #####\n",
            "    6.    \"capital-loss\" 616.396809 ###\n",
            "    7. \"educational-num\" 589.144364 ###\n",
            "    8.             \"age\" 584.776214 ##\n",
            "    9.  \"hours-per-week\" 356.378721 #\n",
            "   10.  \"native-country\" 261.082026 #\n",
            "   11.       \"workclass\" 127.906171 \n",
            "   12.          \"fnlwgt\" 89.670005 \n",
            "   13.          \"gender\" 14.785938 \n",
            "   14.            \"race\" 13.087836 \n",
            "\n",
            "\n",
            "\n",
            "Loss: BINOMIAL_LOG_LIKELIHOOD\n",
            "Validation loss value: 0.609006\n",
            "Number of trees per iteration: 1\n",
            "Node format: NOT_SET\n",
            "Number of trees: 120\n",
            "Total number of nodes: 3542\n",
            "\n",
            "Number of nodes by tree:\n",
            "Count: 120 Average: 29.5167 StdDev: 2.04117\n",
            "Min: 25 Max: 31 Ignored: 0\n",
            "----------------------------------------------\n",
            "[ 25, 26) 14  11.67%  11.67% ##\n",
            "[ 26, 27)  0   0.00%  11.67%\n",
            "[ 27, 28)  9   7.50%  19.17% #\n",
            "[ 28, 29)  0   0.00%  19.17%\n",
            "[ 29, 30) 29  24.17%  43.33% ####\n",
            "[ 30, 31)  0   0.00%  43.33%\n",
            "[ 31, 31] 68  56.67% 100.00% ##########\n",
            "\n",
            "Depth by leafs:\n",
            "Count: 1831 Average: 3.9574 StdDev: 0.229783\n",
            "Min: 2 Max: 4 Ignored: 0\n",
            "----------------------------------------------\n",
            "[ 2, 3)   11   0.60%   0.60%\n",
            "[ 3, 4)   56   3.06%   3.66%\n",
            "[ 4, 4] 1764  96.34% 100.00% ##########\n",
            "\n",
            "Number of training obs by leaf:\n",
            "Count: 1831 Average: 1332.16 StdDev: 3134.57\n",
            "Min: 6 Max: 20161 Ignored: 0\n",
            "----------------------------------------------\n",
            "[     6,  1013) 1425  77.83%  77.83% ##########\n",
            "[  1013,  2021)  102   5.57%  83.40% #\n",
            "[  2021,  3029)   67   3.66%  87.06%\n",
            "[  3029,  4037)   43   2.35%  89.40%\n",
            "[  4037,  5045)   34   1.86%  91.26%\n",
            "[  5045,  6052)   39   2.13%  93.39%\n",
            "[  6052,  7060)   17   0.93%  94.32%\n",
            "[  7060,  8068)    9   0.49%  94.81%\n",
            "[  8068,  9076)   17   0.93%  95.74%\n",
            "[  9076, 10084)   10   0.55%  96.29%\n",
            "[ 10084, 11091)   15   0.82%  97.11%\n",
            "[ 11091, 12099)    7   0.38%  97.49%\n",
            "[ 12099, 13107)   12   0.66%  98.14%\n",
            "[ 13107, 14115)    8   0.44%  98.58%\n",
            "[ 14115, 15123)    2   0.11%  98.69%\n",
            "[ 15123, 16130)    2   0.11%  98.80%\n",
            "[ 16130, 17138)    0   0.00%  98.80%\n",
            "[ 17138, 18146)    5   0.27%  99.07%\n",
            "[ 18146, 19154)   13   0.71%  99.78%\n",
            "[ 19154, 20161]    4   0.22% 100.00%\n",
            "\n",
            "Attribute in nodes:\n",
            "\t258 : occupation [CATEGORICAL]\n",
            "\t200 : native-country [CATEGORICAL]\n",
            "\t183 : age [NUMERICAL]\n",
            "\t182 : capital-gain [NUMERICAL]\n",
            "\t175 : education [CATEGORICAL]\n",
            "\t143 : capital-loss [NUMERICAL]\n",
            "\t125 : hours-per-week [NUMERICAL]\n",
            "\t113 : relationship [CATEGORICAL]\n",
            "\t100 : fnlwgt [NUMERICAL]\n",
            "\t90 : marital-status [CATEGORICAL]\n",
            "\t85 : workclass [CATEGORICAL]\n",
            "\t33 : educational-num [NUMERICAL]\n",
            "\t15 : race [CATEGORICAL]\n",
            "\t9 : gender [CATEGORICAL]\n",
            "\n",
            "Attribute in nodes with depth <= 0:\n",
            "\t17 : relationship [CATEGORICAL]\n",
            "\t13 : age [NUMERICAL]\n",
            "\t12 : marital-status [CATEGORICAL]\n",
            "\t12 : hours-per-week [NUMERICAL]\n",
            "\t11 : native-country [CATEGORICAL]\n",
            "\t11 : capital-gain [NUMERICAL]\n",
            "\t10 : education [CATEGORICAL]\n",
            "\t8 : capital-loss [NUMERICAL]\n",
            "\t7 : occupation [CATEGORICAL]\n",
            "\t7 : fnlwgt [NUMERICAL]\n",
            "\t6 : educational-num [NUMERICAL]\n",
            "\t4 : workclass [CATEGORICAL]\n",
            "\t1 : race [CATEGORICAL]\n",
            "\t1 : gender [CATEGORICAL]\n",
            "\n",
            "Attribute in nodes with depth <= 1:\n",
            "\t48 : native-country [CATEGORICAL]\n",
            "\t45 : capital-gain [NUMERICAL]\n",
            "\t43 : occupation [CATEGORICAL]\n",
            "\t38 : age [NUMERICAL]\n",
            "\t30 : relationship [CATEGORICAL]\n",
            "\t29 : capital-loss [NUMERICAL]\n",
            "\t28 : education [CATEGORICAL]\n",
            "\t25 : hours-per-week [NUMERICAL]\n",
            "\t22 : marital-status [CATEGORICAL]\n",
            "\t15 : workclass [CATEGORICAL]\n",
            "\t14 : fnlwgt [NUMERICAL]\n",
            "\t13 : educational-num [NUMERICAL]\n",
            "\t5 : race [CATEGORICAL]\n",
            "\t5 : gender [CATEGORICAL]\n",
            "\n",
            "Attribute in nodes with depth <= 2:\n",
            "\t110 : capital-gain [NUMERICAL]\n",
            "\t108 : occupation [CATEGORICAL]\n",
            "\t104 : native-country [CATEGORICAL]\n",
            "\t81 : education [CATEGORICAL]\n",
            "\t76 : age [NUMERICAL]\n",
            "\t71 : capital-loss [NUMERICAL]\n",
            "\t61 : relationship [CATEGORICAL]\n",
            "\t58 : hours-per-week [NUMERICAL]\n",
            "\t45 : marital-status [CATEGORICAL]\n",
            "\t42 : workclass [CATEGORICAL]\n",
            "\t37 : fnlwgt [NUMERICAL]\n",
            "\t21 : educational-num [NUMERICAL]\n",
            "\t8 : gender [CATEGORICAL]\n",
            "\t7 : race [CATEGORICAL]\n",
            "\n",
            "Attribute in nodes with depth <= 3:\n",
            "\t258 : occupation [CATEGORICAL]\n",
            "\t200 : native-country [CATEGORICAL]\n",
            "\t183 : age [NUMERICAL]\n",
            "\t182 : capital-gain [NUMERICAL]\n",
            "\t175 : education [CATEGORICAL]\n",
            "\t143 : capital-loss [NUMERICAL]\n",
            "\t125 : hours-per-week [NUMERICAL]\n",
            "\t113 : relationship [CATEGORICAL]\n",
            "\t100 : fnlwgt [NUMERICAL]\n",
            "\t90 : marital-status [CATEGORICAL]\n",
            "\t85 : workclass [CATEGORICAL]\n",
            "\t33 : educational-num [NUMERICAL]\n",
            "\t15 : race [CATEGORICAL]\n",
            "\t9 : gender [CATEGORICAL]\n",
            "\n",
            "Attribute in nodes with depth <= 5:\n",
            "\t258 : occupation [CATEGORICAL]\n",
            "\t200 : native-country [CATEGORICAL]\n",
            "\t183 : age [NUMERICAL]\n",
            "\t182 : capital-gain [NUMERICAL]\n",
            "\t175 : education [CATEGORICAL]\n",
            "\t143 : capital-loss [NUMERICAL]\n",
            "\t125 : hours-per-week [NUMERICAL]\n",
            "\t113 : relationship [CATEGORICAL]\n",
            "\t100 : fnlwgt [NUMERICAL]\n",
            "\t90 : marital-status [CATEGORICAL]\n",
            "\t85 : workclass [CATEGORICAL]\n",
            "\t33 : educational-num [NUMERICAL]\n",
            "\t15 : race [CATEGORICAL]\n",
            "\t9 : gender [CATEGORICAL]\n",
            "\n",
            "Condition type in nodes:\n",
            "\t945 : ContainsBitmapCondition\n",
            "\t766 : HigherCondition\n",
            "Condition type in nodes with depth <= 0:\n",
            "\t63 : ContainsBitmapCondition\n",
            "\t57 : HigherCondition\n",
            "Condition type in nodes with depth <= 1:\n",
            "\t196 : ContainsBitmapCondition\n",
            "\t164 : HigherCondition\n",
            "Condition type in nodes with depth <= 2:\n",
            "\t456 : ContainsBitmapCondition\n",
            "\t373 : HigherCondition\n",
            "Condition type in nodes with depth <= 3:\n",
            "\t945 : ContainsBitmapCondition\n",
            "\t766 : HigherCondition\n",
            "Condition type in nodes with depth <= 5:\n",
            "\t945 : ContainsBitmapCondition\n",
            "\t766 : HigherCondition\n",
            "\n",
            "Training logs:\n",
            "Number of iteration to final model: 120\n",
            "\tIter:1 train-loss:1.022865 valid-loss:1.047119  train-accuracy:0.761085 valid-accuracy:0.753167\n",
            "\tIter:2 train-loss:0.965239 valid-loss:0.992082  train-accuracy:0.761085 valid-accuracy:0.753167\n",
            "\tIter:3 train-loss:0.919405 valid-loss:0.947095  train-accuracy:0.761085 valid-accuracy:0.753167\n",
            "\tIter:4 train-loss:0.881444 valid-loss:0.912831  train-accuracy:0.801811 valid-accuracy:0.796673\n",
            "\tIter:5 train-loss:0.849101 valid-loss:0.883500  train-accuracy:0.803570 valid-accuracy:0.798848\n",
            "\tIter:6 train-loss:0.821924 valid-loss:0.857043  train-accuracy:0.814384 valid-accuracy:0.805886\n",
            "\tIter:16 train-loss:0.677541 valid-loss:0.720497  train-accuracy:0.855045 valid-accuracy:0.831350\n",
            "\tIter:26 train-loss:0.626556 valid-loss:0.673233  train-accuracy:0.863395 valid-accuracy:0.841203\n",
            "\tIter:36 train-loss:0.599923 valid-loss:0.651101  train-accuracy:0.867042 valid-accuracy:0.849520\n",
            "\tIter:46 train-loss:0.581346 valid-loss:0.634015  train-accuracy:0.870497 valid-accuracy:0.851823\n",
            "\tIter:56 train-loss:0.569368 valid-loss:0.626599  train-accuracy:0.871905 valid-accuracy:0.854127\n",
            "\tIter:66 train-loss:0.559680 valid-loss:0.622886  train-accuracy:0.873184 valid-accuracy:0.854766\n",
            "\tIter:76 train-loss:0.551774 valid-loss:0.618776  train-accuracy:0.874816 valid-accuracy:0.855534\n",
            "\tIter:86 train-loss:0.545402 valid-loss:0.613967  train-accuracy:0.876704 valid-accuracy:0.856302\n",
            "\tIter:96 train-loss:0.540720 valid-loss:0.612354  train-accuracy:0.877919 valid-accuracy:0.855790\n",
            "\tIter:106 train-loss:0.536065 valid-loss:0.610167  train-accuracy:0.878943 valid-accuracy:0.855150\n",
            "\tIter:116 train-loss:0.531923 valid-loss:0.609455  train-accuracy:0.880191 valid-accuracy:0.855278\n",
            "\tIter:126 train-loss:0.527345 valid-loss:0.610302  train-accuracy:0.881342 valid-accuracy:0.854127\n",
            "\tIter:136 train-loss:0.524211 valid-loss:0.609716  train-accuracy:0.882462 valid-accuracy:0.854511\n",
            "\tIter:146 train-loss:0.520823 valid-loss:0.611225  train-accuracy:0.883294 valid-accuracy:0.854894\n",
            "\n",
            "None\n"
          ]
        }
      ],
      "source": [
        "print(model_gbt.summary())"
      ]
    },
    {
      "cell_type": "code",
      "execution_count": null,
      "metadata": {
        "colab": {
          "base_uri": "https://localhost:8080/",
          "height": 642
        },
        "id": "hFW6YPm17P7B",
        "outputId": "c341343d-6154-4335-cf5d-eea93f51310e"
      },
      "outputs": [
        {
          "output_type": "stream",
          "name": "stdout",
          "text": [
            "10/10 [==============================] - 1s 39ms/step\n",
            "ROC AUC: 0.9294\n"
          ]
        },
        {
          "output_type": "display_data",
          "data": {
            "text/plain": [
              "<Figure size 800x600 with 1 Axes>"
            ],
            "image/png": "[encoded data removed]"
          },
          "metadata": {}
        }
      ],
      "source": [
        "# 1. Predict probabilities for the positive class using the trained model\n",
        "test_dataset = tfdf.keras.pd_dataframe_to_tf_dataset(test_data, label=TARGET_COLUMN_NAME)\n",
        "y_proba = model_gbt.predict(test_dataset).flatten()\n",
        "\n",
        "# 2. Get the true binary labels from the test set\n",
        "y_true = test_data[TARGET_COLUMN_NAME].values\n",
        "\n",
        "# 3. Compute ROC AUC score\n",
        "roc_auc = roc_auc_score(y_true, y_proba)\n",
        "print(f\"ROC AUC: {roc_auc:.4f}\")\n",
        "\n",
        "# 4. Compute ROC curve points (False Positive Rate, True Positive Rate)\n",
        "fpr, tpr, thresholds = roc_curve(y_true, y_proba)\n",
        "\n",
        "# 5. Plot the ROC curve\n",
        "plt.figure(figsize=(8,6))\n",
        "plt.plot(fpr, tpr, label=f\"ROC Curve (AUC = {roc_auc:.4f})\", linewidth=2)\n",
        "plt.plot([0, 1], [0, 1], 'k--', label=\"Random Classifier (AUC = 0.5)\")  # Diagonal line for random guessing\n",
        "plt.xlabel(\"False Positive Rate\")\n",
        "plt.ylabel(\"True Positive Rate\")\n",
        "plt.title(\"Receiver Operating Characteristic (ROC) Curve\")\n",
        "plt.legend(loc=\"lower right\")\n",
        "plt.grid(True)\n",
        "plt.tight_layout()\n",
        "plt.show()"
      ]
    }
  ]
}